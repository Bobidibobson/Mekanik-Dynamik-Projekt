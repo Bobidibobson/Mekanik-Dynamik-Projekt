{
 "cells": [
  {
   "cell_type": "code",
   "execution_count": 17,
   "id": "9bcea18e",
   "metadata": {},
   "outputs": [],
   "source": [
    "import numpy as np\n",
    "from scipy.integrate import solve_ivp\n",
    "\n",
    "L1 = 1\n",
    "L2 = 1\n",
    "L = 2\n",
    "k = 10\n",
    "m1 = 1\n",
    "m2 = 2\n",
    "g = 9,82\n",
    "\n",
    "konsts = (L1, L2, L, k, m1, m2, g)"
   ]
  },
  {
   "cell_type": "code",
   "execution_count": 18,
   "id": "a3e655c3",
   "metadata": {},
   "outputs": [],
   "source": [
    "\n",
    "def calcvalues(O1, O2, konsts):\n",
    "    L1, L2, L, k, m1, m2, g = konsts\n",
    "    deltaH = L1*np.cos(O1) - L2*np.cos(O2)\n",
    "    deltaX = L1*(1 - np.sin(O1)) + L2*(1 + np.sin(O2))\n",
    "\n",
    "    alpha = np.arctan(deltaH/deltaX)\n",
    "    L3 = np.sqrt(deltaH**2 + deltaX**2)\n",
    "\n",
    "    deltaL = L - L3\n",
    "    Fk = k*deltaL\n",
    "    beta1 = O1 - alpha\n",
    "    beta2 = O2 - alpha\n",
    "\n",
    "    return Fk, beta1, beta2"
   ]
  },
  {
   "cell_type": "code",
   "execution_count": 19,
   "id": "5dab88b3",
   "metadata": {},
   "outputs": [],
   "source": [
    "def calcmovements(u, konsts):\n",
    "    L1, L2, L, k, m1, m2, g = konsts\n",
    "    u1, u2, u3, u4 = u\n",
    "    Fk, beta1, beta2 = calcvalues(u1, u3, konsts)\n",
    "    u1_dot = u2\n",
    "    u2_dot = (Fk*np.cos(beta2) - m2*g*np.sin(u1))/(m2*2*np.pi)\n",
    "    u3_dot = u4\n",
    "    u4_dot = (Fk*np.cos(beta2) - m1*g*np.sin(u2))/(m1*2*np.pi)\n",
    "    return np.array([u1_dot, u2_dot, u3_dot, u4_dot])"
   ]
  },
  {
   "cell_type": "code",
   "execution_count": null,
   "id": "0006ddb4",
   "metadata": {},
   "outputs": [
    {
     "ename": "TypeError",
     "evalue": "calcmovements() takes 2 positional arguments but 9 were given",
     "output_type": "error",
     "traceback": [
      "\u001b[1;31m---------------------------------------------------------------------------\u001b[0m",
      "\u001b[1;31mTypeError\u001b[0m                                 Traceback (most recent call last)",
      "Cell \u001b[1;32mIn[20], line 9\u001b[0m\n\u001b[0;32m      7\u001b[0m ode_args \u001b[38;5;241m=\u001b[39m konsts\n\u001b[0;32m      8\u001b[0m \u001b[38;5;66;03m# ODE-lösaren\u001b[39;00m\n\u001b[1;32m----> 9\u001b[0m sol \u001b[38;5;241m=\u001b[39m solve_ivp(calcmovements, t_span, u_0, method \u001b[38;5;241m=\u001b[39m \u001b[38;5;124m'\u001b[39m\u001b[38;5;124mRK45\u001b[39m\u001b[38;5;124m'\u001b[39m, t_eval \u001b[38;5;241m=\u001b[39m\n\u001b[0;32m     10\u001b[0m t_eval, args\u001b[38;5;241m=\u001b[39mode_args, rtol \u001b[38;5;241m=\u001b[39m \u001b[38;5;241m1e-4\u001b[39m, atol \u001b[38;5;241m=\u001b[39m \u001b[38;5;241m1e-4\u001b[39m)\n",
      "File \u001b[1;32mc:\\Users\\rober\\anaconda3\\Lib\\site-packages\\scipy\\integrate\\_ivp\\ivp.py:621\u001b[0m, in \u001b[0;36msolve_ivp\u001b[1;34m(fun, t_span, y0, method, t_eval, dense_output, events, vectorized, args, **options)\u001b[0m\n\u001b[0;32m    618\u001b[0m \u001b[38;5;28;01mif\u001b[39;00m method \u001b[38;5;129;01min\u001b[39;00m METHODS:\n\u001b[0;32m    619\u001b[0m     method \u001b[38;5;241m=\u001b[39m METHODS[method]\n\u001b[1;32m--> 621\u001b[0m solver \u001b[38;5;241m=\u001b[39m method(fun, t0, y0, tf, vectorized\u001b[38;5;241m=\u001b[39mvectorized, \u001b[38;5;241m*\u001b[39m\u001b[38;5;241m*\u001b[39moptions)\n\u001b[0;32m    623\u001b[0m \u001b[38;5;28;01mif\u001b[39;00m t_eval \u001b[38;5;129;01mis\u001b[39;00m \u001b[38;5;28;01mNone\u001b[39;00m:\n\u001b[0;32m    624\u001b[0m     ts \u001b[38;5;241m=\u001b[39m [t0]\n",
      "File \u001b[1;32mc:\\Users\\rober\\anaconda3\\Lib\\site-packages\\scipy\\integrate\\_ivp\\rk.py:94\u001b[0m, in \u001b[0;36mRungeKutta.__init__\u001b[1;34m(self, fun, t0, y0, t_bound, max_step, rtol, atol, vectorized, first_step, **extraneous)\u001b[0m\n\u001b[0;32m     92\u001b[0m \u001b[38;5;28mself\u001b[39m\u001b[38;5;241m.\u001b[39mmax_step \u001b[38;5;241m=\u001b[39m validate_max_step(max_step)\n\u001b[0;32m     93\u001b[0m \u001b[38;5;28mself\u001b[39m\u001b[38;5;241m.\u001b[39mrtol, \u001b[38;5;28mself\u001b[39m\u001b[38;5;241m.\u001b[39matol \u001b[38;5;241m=\u001b[39m validate_tol(rtol, atol, \u001b[38;5;28mself\u001b[39m\u001b[38;5;241m.\u001b[39mn)\n\u001b[1;32m---> 94\u001b[0m \u001b[38;5;28mself\u001b[39m\u001b[38;5;241m.\u001b[39mf \u001b[38;5;241m=\u001b[39m \u001b[38;5;28mself\u001b[39m\u001b[38;5;241m.\u001b[39mfun(\u001b[38;5;28mself\u001b[39m\u001b[38;5;241m.\u001b[39mt, \u001b[38;5;28mself\u001b[39m\u001b[38;5;241m.\u001b[39my)\n\u001b[0;32m     95\u001b[0m \u001b[38;5;28;01mif\u001b[39;00m first_step \u001b[38;5;129;01mis\u001b[39;00m \u001b[38;5;28;01mNone\u001b[39;00m:\n\u001b[0;32m     96\u001b[0m     \u001b[38;5;28mself\u001b[39m\u001b[38;5;241m.\u001b[39mh_abs \u001b[38;5;241m=\u001b[39m select_initial_step(\n\u001b[0;32m     97\u001b[0m         \u001b[38;5;28mself\u001b[39m\u001b[38;5;241m.\u001b[39mfun, \u001b[38;5;28mself\u001b[39m\u001b[38;5;241m.\u001b[39mt, \u001b[38;5;28mself\u001b[39m\u001b[38;5;241m.\u001b[39my, \u001b[38;5;28mself\u001b[39m\u001b[38;5;241m.\u001b[39mf, \u001b[38;5;28mself\u001b[39m\u001b[38;5;241m.\u001b[39mdirection,\n\u001b[0;32m     98\u001b[0m         \u001b[38;5;28mself\u001b[39m\u001b[38;5;241m.\u001b[39merror_estimator_order, \u001b[38;5;28mself\u001b[39m\u001b[38;5;241m.\u001b[39mrtol, \u001b[38;5;28mself\u001b[39m\u001b[38;5;241m.\u001b[39matol)\n",
      "File \u001b[1;32mc:\\Users\\rober\\anaconda3\\Lib\\site-packages\\scipy\\integrate\\_ivp\\base.py:154\u001b[0m, in \u001b[0;36mOdeSolver.__init__.<locals>.fun\u001b[1;34m(t, y)\u001b[0m\n\u001b[0;32m    152\u001b[0m \u001b[38;5;28;01mdef\u001b[39;00m \u001b[38;5;21mfun\u001b[39m(t, y):\n\u001b[0;32m    153\u001b[0m     \u001b[38;5;28mself\u001b[39m\u001b[38;5;241m.\u001b[39mnfev \u001b[38;5;241m+\u001b[39m\u001b[38;5;241m=\u001b[39m \u001b[38;5;241m1\u001b[39m\n\u001b[1;32m--> 154\u001b[0m     \u001b[38;5;28;01mreturn\u001b[39;00m \u001b[38;5;28mself\u001b[39m\u001b[38;5;241m.\u001b[39mfun_single(t, y)\n",
      "File \u001b[1;32mc:\\Users\\rober\\anaconda3\\Lib\\site-packages\\scipy\\integrate\\_ivp\\base.py:23\u001b[0m, in \u001b[0;36mcheck_arguments.<locals>.fun_wrapped\u001b[1;34m(t, y)\u001b[0m\n\u001b[0;32m     22\u001b[0m \u001b[38;5;28;01mdef\u001b[39;00m \u001b[38;5;21mfun_wrapped\u001b[39m(t, y):\n\u001b[1;32m---> 23\u001b[0m     \u001b[38;5;28;01mreturn\u001b[39;00m np\u001b[38;5;241m.\u001b[39masarray(fun(t, y), dtype\u001b[38;5;241m=\u001b[39mdtype)\n",
      "File \u001b[1;32mc:\\Users\\rober\\anaconda3\\Lib\\site-packages\\scipy\\integrate\\_ivp\\ivp.py:593\u001b[0m, in \u001b[0;36msolve_ivp.<locals>.fun\u001b[1;34m(t, x, fun)\u001b[0m\n\u001b[0;32m    592\u001b[0m \u001b[38;5;28;01mdef\u001b[39;00m \u001b[38;5;21mfun\u001b[39m(t, x, fun\u001b[38;5;241m=\u001b[39mfun):\n\u001b[1;32m--> 593\u001b[0m     \u001b[38;5;28;01mreturn\u001b[39;00m fun(t, x, \u001b[38;5;241m*\u001b[39margs)\n",
      "\u001b[1;31mTypeError\u001b[0m: calcmovements() takes 2 positional arguments but 9 were given"
     ]
    }
   ],
   "source": [
    "u_0 = np.array([-np.pi/8, 0, np.pi/6, 0])\n",
    "\n",
    "# Simuleringstid\n",
    "t_span = (0,10)\n",
    "t_eval = np.linspace(0, 10, 1000)\n",
    "# Integrationsparametrar\n",
    "# ODE-lösaren\n",
    "sol = solve_ivp(calcmovements, t_span, u_0, method = 'RK45', t_eval =\n",
    "t_eval, args=konsts, rtol = 1e-4, atol = 1e-4)"
   ]
  },
  {
   "cell_type": "code",
   "execution_count": null,
   "id": "0776e715",
   "metadata": {},
   "outputs": [],
   "source": []
  }
 ],
 "metadata": {
  "kernelspec": {
   "display_name": "base",
   "language": "python",
   "name": "python3"
  },
  "language_info": {
   "codemirror_mode": {
    "name": "ipython",
    "version": 3
   },
   "file_extension": ".py",
   "mimetype": "text/x-python",
   "name": "python",
   "nbconvert_exporter": "python",
   "pygments_lexer": "ipython3",
   "version": "3.12.7"
  }
 },
 "nbformat": 4,
 "nbformat_minor": 5
}
