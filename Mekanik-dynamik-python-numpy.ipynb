{
 "cells": [
  {
   "cell_type": "code",
   "execution_count": 44,
   "id": "9bcea18e",
   "metadata": {},
   "outputs": [],
   "source": [
    "# Lägg till bibliotek\n",
    "import matplotlib.pyplot as plt #plot\n",
    "import matplotlib.animation as animation #animaation\n",
    "import numpy as np\n",
    "from scipy.integrate import solve_ivp\n",
    "\n",
    "L1 = 1.0\n",
    "L2 = 1.0\n",
    "L = 2.0\n",
    "k = 10.0\n",
    "m1 = 1.0\n",
    "m2 = 2.0\n",
    "g = 9.82\n",
    "\n",
    "konsts = (L1, L2, L, k, m1, m2, g)"
   ]
  },
  {
   "cell_type": "code",
   "execution_count": 45,
   "id": "a3e655c3",
   "metadata": {},
   "outputs": [],
   "source": [
    "\n",
    "def calcvalues(O1, O2, L1, L2, L, k, m1, m2, g):\n",
    "    deltaH = L1*np.cos(O1) - L2*np.cos(O2)\n",
    "    deltaX = L1*(1 - np.sin(O1)) + L2*(1 + np.sin(O2))\n",
    "\n",
    "    alpha = np.arctan(deltaH/deltaX)\n",
    "    L3 = np.sqrt(deltaH**2 + deltaX**2)\n",
    "\n",
    "    deltaL = L - L3\n",
    "    Fk = k*deltaL\n",
    "    beta1 = O1 - alpha\n",
    "    beta2 = O2 - alpha\n",
    "\n",
    "    return Fk, beta1, beta2"
   ]
  },
  {
   "cell_type": "code",
   "execution_count": 46,
   "id": "5dab88b3",
   "metadata": {},
   "outputs": [],
   "source": [
    "def calcmovements(t, u, L1, L2, L, k, m1, m2, g):\n",
    "    u1, u2, u3, u4 = u\n",
    "    Fk, beta1, beta2 = calcvalues(u1, u3, L1, L2, L, k, m1, m2, g)\n",
    "    u1_dot = u2\n",
    "    u2_dot = (Fk*np.cos(beta2) - m2*g*np.sin(u1))/(m2*2*np.pi)\n",
    "    u3_dot = u4\n",
    "    u4_dot = (Fk*np.cos(beta2) - m1*g*np.sin(u2))/(m1*2*np.pi)\n",
    "    return np.array([u1_dot, u2_dot, u3_dot, u4_dot])"
   ]
  },
  {
   "cell_type": "code",
   "execution_count": 47,
   "id": "0006ddb4",
   "metadata": {},
   "outputs": [],
   "source": [
    "u_0 = np.array([-np.pi/8, 0, np.pi/6, 0])\n",
    "\n",
    "# Simuleringstid\n",
    "t_span = (0,10)\n",
    "t_eval = np.linspace(0, 10, 1000)\n",
    "# Integrationsparametrar\n",
    "# ODE-lösaren\n",
    "sol = solve_ivp(calcmovements, t_span, u_0, method = 'RK45', t_eval =\n",
    "t_eval, args=konsts, rtol = 1e-4, atol = 1e-4)"
   ]
  },
  {
   "cell_type": "code",
   "execution_count": 48,
   "id": "7bafd05a",
   "metadata": {},
   "outputs": [
    {
     "data": {
      "text/plain": [
       "  message: The solver successfully reached the end of the integration interval.\n",
       "  success: True\n",
       "   status: 0\n",
       "        t: [ 0.000e+00  1.001e-02 ...  9.990e+00  1.000e+01]\n",
       "        y: [[-3.927e-01 -3.927e-01 ... -2.372e-01 -2.439e-01]\n",
       "            [ 0.000e+00 -1.755e-04 ... -6.697e-01 -6.653e-01]\n",
       "            [ 5.236e-01  5.235e-01 ... -1.289e+01 -1.289e+01]\n",
       "            [ 0.000e+00 -1.232e-02 ...  8.681e-02  9.766e-02]]\n",
       "      sol: None\n",
       " t_events: None\n",
       " y_events: None\n",
       "     nfev: 170\n",
       "     njev: 0\n",
       "      nlu: 0"
      ]
     },
     "execution_count": 48,
     "metadata": {},
     "output_type": "execute_result"
    }
   ],
   "source": [
    "sol"
   ]
  },
  {
   "cell_type": "code",
   "execution_count": 50,
   "id": "0776e715",
   "metadata": {},
   "outputs": [
    {
     "data": {
      "image/png": "[encoded data removed]",
      "text/plain": [
       "<Figure size 640x480 with 1 Axes>"
      ]
     },
     "metadata": {},
     "output_type": "display_data"
    }
   ],
   "source": [
    "# Vinklar får från simulering\n",
    "theta1 = sol.y[0]\n",
    "theta2 = sol.y[2]\n",
    "\n",
    "# Positioner för massorna fås från vinklar och parametrar\n",
    "x1 = L1*(np.sin(theta1) - 1)\n",
    "y1 = L1*(np.cos(theta1) - 1)\n",
    "x2 = L2*(np.sin(theta2) + 1)\n",
    "y2 = L2*(np.cos(theta2) - 1)\n",
    "\n",
    "# Skapa figur och axlar\n",
    "fig=plt.figure()\n",
    "ax = plt.axes(xlim = (-(L1+L2), (L1+L2)),ylim = (-3/4*(L1+L2), 3/4*(L1+L2)))\n",
    "ax.set_aspect('equal')\n",
    "ax.grid()\n",
    "# Linjer för pendlarna\n",
    "line1, = ax.plot([], [], lw=2, color = 'blue', marker='o', markersize=8)\n",
    "line2, = ax.plot([], [], lw=2, color = 'blue', marker='o', markersize=8)\n",
    "line3, = ax.plot([], [], lw=2, color = 'red', marker='o', markersize=8)\n",
    "# Initialisering av linjer för animering\n",
    "def init():\n",
    "    line1.set_data([], []) #Pendel 1\n",
    "    line2.set_data([], []) #Pendel 2\n",
    "    line3.set_data([], []) #Fjäder\n",
    "    return line1, line2, line3\n",
    "# Animeringsfunktion\n",
    "def animate(i):\n",
    "    # Koordinater\n",
    "    x1_coords = [-L1, x1[i]] #Massa 1\n",
    "    y1_coords = [0, y1[i]]\n",
    "    x2_coords = [L2, x2[i]] #Massa 2\n",
    "    y2_coords = [0, y2[i]]\n",
    "    x3_coords = [x1[i], x2[i]] #Fjädern\n",
    "    y3_coords = [y1[i], y2[i]]\n",
    "    #Linjer\n",
    "    line1.set_data(x1_coords, y1_coords)\n",
    "    line2.set_data(x2_coords, y2_coords)\n",
    "    line3.set_data(x3_coords, y3_coords)\n",
    "    return line1, line2, line3\n",
    "# Skapa animering\n",
    "anim = animation.FuncAnimation(fig, animate, frames=len(t_eval),\n",
    "init_func=init, blit=True, interval=20)\n",
    "plt.title('Pendelanimering')\n",
    "plt.xlabel('x')\n",
    "plt.ylabel('y')\n",
    "plt.show()"
   ]
  },
  {
   "cell_type": "code",
   "execution_count": null,
   "id": "02656b65",
   "metadata": {},
   "outputs": [],
   "source": []
  }
 ],
 "metadata": {
  "kernelspec": {
   "display_name": "base",
   "language": "python",
   "name": "python3"
  },
  "language_info": {
   "codemirror_mode": {
    "name": "ipython",
    "version": 3
   },
   "file_extension": ".py",
   "mimetype": "text/x-python",
   "name": "python",
   "nbconvert_exporter": "python",
   "pygments_lexer": "ipython3",
   "version": "3.12.7"
  }
 },
 "nbformat": 4,
 "nbformat_minor": 5
}
