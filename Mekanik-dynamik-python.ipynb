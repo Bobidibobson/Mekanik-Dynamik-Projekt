{
 "cells": [
  {
   "cell_type": "code",
   "execution_count": 44,
   "id": "d185fd97",
   "metadata": {},
   "outputs": [],
   "source": [
    "from mtm026 import *\n",
    "import sympy as sp\n",
    "import numpy as np"
   ]
  },
  {
   "cell_type": "code",
   "execution_count": 45,
   "id": "0e4960a0",
   "metadata": {},
   "outputs": [],
   "source": [
    "L1, L2, L, k, m1, m2, t, g = sp.symbols('L1 L2 L k m1 m2 t, g')"
   ]
  },
  {
   "cell_type": "code",
   "execution_count": 46,
   "id": "ad071140",
   "metadata": {},
   "outputs": [],
   "source": [
    "O1 = sp.Function('O1')(t)"
   ]
  },
  {
   "cell_type": "code",
   "execution_count": 47,
   "id": "98645ef7",
   "metadata": {},
   "outputs": [],
   "source": [
    "O2 = sp.Function('O2')(t)"
   ]
  },
  {
   "cell_type": "code",
   "execution_count": 48,
   "id": "7ab2cad7",
   "metadata": {},
   "outputs": [],
   "source": [
    "deltaH = L1*sp.cos(O1) - L2*sp.cos(O2)"
   ]
  },
  {
   "cell_type": "code",
   "execution_count": 49,
   "id": "f7d264ae",
   "metadata": {},
   "outputs": [],
   "source": [
    "deltaX = L1*(1 - sp.sin(O1)) + L2*(1 + sp.sin(O2))"
   ]
  },
  {
   "cell_type": "code",
   "execution_count": 50,
   "id": "796d643c",
   "metadata": {},
   "outputs": [
    {
     "data": {
      "text/latex": [
       "$\\displaystyle ekvation = L_{1} \\left(1 - \\sin{\\left(O_{1}{\\left(t \\right)} \\right)}\\right) + L_{2} \\left(\\sin{\\left(O_{2}{\\left(t \\right)} \\right)} + 1\\right)$"
      ],
      "text/plain": [
       "<IPython.core.display.Math object>"
      ]
     },
     "metadata": {},
     "output_type": "display_data"
    }
   ],
   "source": [
    "displayvar('ekvation', deltaX)"
   ]
  },
  {
   "cell_type": "code",
   "execution_count": 51,
   "id": "7b46ebbb",
   "metadata": {},
   "outputs": [],
   "source": [
    "alpha = sp.atan(deltaH/deltaX)"
   ]
  },
  {
   "cell_type": "code",
   "execution_count": 52,
   "id": "434f1a9c",
   "metadata": {},
   "outputs": [],
   "source": [
    "L3 = sp.sqrt(deltaH**2 + deltaX**2)"
   ]
  },
  {
   "cell_type": "code",
   "execution_count": 53,
   "id": "b87b635c",
   "metadata": {},
   "outputs": [],
   "source": [
    "deltaL = L - L3"
   ]
  },
  {
   "cell_type": "code",
   "execution_count": 54,
   "id": "c47c80f4",
   "metadata": {},
   "outputs": [],
   "source": [
    "Fk = k*deltaL"
   ]
  },
  {
   "cell_type": "code",
   "execution_count": 55,
   "id": "d338ef17",
   "metadata": {},
   "outputs": [],
   "source": [
    "beta1 = O1 - alpha"
   ]
  },
  {
   "cell_type": "code",
   "execution_count": 58,
   "id": "d9089871",
   "metadata": {},
   "outputs": [],
   "source": [
    "diffekv = m1*2*sp.pi*sp.diff(O1, t, 2) + m1*g*sp.sin(O1) - Fk*sp.cos(beta1)"
   ]
  },
  {
   "cell_type": "code",
   "execution_count": 59,
   "id": "c28deedf",
   "metadata": {},
   "outputs": [
    {
     "data": {
      "text/latex": [
       "$\\displaystyle ekvation = g m_{1} \\sin{\\left(O_{1}{\\left(t \\right)} \\right)} - k \\left(L - \\sqrt{\\left(L_{1} \\left(1 - \\sin{\\left(O_{1}{\\left(t \\right)} \\right)}\\right) + L_{2} \\left(\\sin{\\left(O_{2}{\\left(t \\right)} \\right)} + 1\\right)\\right)^{2} + \\left(L_{1} \\cos{\\left(O_{1}{\\left(t \\right)} \\right)} - L_{2} \\cos{\\left(O_{2}{\\left(t \\right)} \\right)}\\right)^{2}}\\right) \\cos{\\left(O_{1}{\\left(t \\right)} - \\operatorname{atan}{\\left(\\frac{L_{1} \\cos{\\left(O_{1}{\\left(t \\right)} \\right)} - L_{2} \\cos{\\left(O_{2}{\\left(t \\right)} \\right)}}{L_{1} \\left(1 - \\sin{\\left(O_{1}{\\left(t \\right)} \\right)}\\right) + L_{2} \\left(\\sin{\\left(O_{2}{\\left(t \\right)} \\right)} + 1\\right)} \\right)} \\right)} + 2 \\pi m_{1} \\frac{d^{2}}{d t^{2}} O_{1}{\\left(t \\right)}$"
      ],
      "text/plain": [
       "<IPython.core.display.Math object>"
      ]
     },
     "metadata": {},
     "output_type": "display_data"
    }
   ],
   "source": [
    "displayvar('ekvation', diffekv)"
   ]
  },
  {
   "cell_type": "code",
   "execution_count": null,
   "id": "88c85290",
   "metadata": {},
   "outputs": [],
   "source": [
    "print(\"test\")"
   ]
  }
 ],
 "metadata": {
  "kernelspec": {
   "display_name": "base",
   "language": "python",
   "name": "python3"
  },
  "language_info": {
   "codemirror_mode": {
    "name": "ipython",
    "version": 3
   },
   "file_extension": ".py",
   "mimetype": "text/x-python",
   "name": "python",
   "nbconvert_exporter": "python",
   "pygments_lexer": "ipython3",
   "version": "3.12.7"
  }
 },
 "nbformat": 4,
 "nbformat_minor": 5
}
